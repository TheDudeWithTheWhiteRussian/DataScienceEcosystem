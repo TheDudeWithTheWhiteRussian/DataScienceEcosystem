{
 "cells": [
  {
   "cell_type": "markdown",
   "id": "0fb652af-7004-4a19-9482-0f5f6c1118a2",
   "metadata": {
    "tags": []
   },
   "source": [
    "# Data Science Tools and Ecosystem"
   ]
  },
  {
   "cell_type": "markdown",
   "id": "6a97b2b9-cf81-471a-b054-7e016972db3e",
   "metadata": {},
   "source": [
    "## In this notebook, Data Science Tools and Ecosystem are summarized."
   ]
  },
  {
   "cell_type": "markdown",
   "id": "f3af4e15-c728-4de2-aa9a-89bab5563700",
   "metadata": {},
   "source": [
    "**Objectives:**\n",
    "- List popular languages in Data Science.\n",
    "- Mention commonly used libraies by Data Scientists. \n",
    "- Arithmetic expressions."
   ]
  },
  {
   "cell_type": "markdown",
   "id": "c2d4f7a8-aad4-4b09-97da-09c9b05a764b",
   "metadata": {},
   "source": [
    "Some of the popular languages that Data Scientists use are:\n",
    "1. Python\n",
    "2. SQL\n",
    "3. R"
   ]
  },
  {
   "cell_type": "markdown",
   "id": "e52b5eab-fef9-4de6-82dc-95145945af01",
   "metadata": {},
   "source": [
    "Some of the commonly used libraries used by Data Scientists include:\n",
    "1. Pandas\n",
    "2. NumPy\n",
    "3. Matplotlib\n",
    "4. Scikit-learn"
   ]
  },
  {
   "cell_type": "markdown",
   "id": "5f9c041b-2893-4825-8004-2b605d2ac7fd",
   "metadata": {},
   "source": [
    "| Data Science Tools | \n",
    "| -------------| \n",
    "| Pandas | \n",
    "| Scrapy | \n",
    "| Pandas | "
   ]
  },
  {
   "cell_type": "markdown",
   "id": "45c5051b-0a8b-4e9e-b7ef-3192b75609c6",
   "metadata": {},
   "source": [
    "### Below are a few examples of evaluating arithmetic expressions in Python"
   ]
  },
  {
   "cell_type": "code",
   "execution_count": 3,
   "id": "8626fd21-0a64-4224-aeb1-5eb3c6eae690",
   "metadata": {
    "tags": []
   },
   "outputs": [
    {
     "data": {
      "text/plain": [
       "17"
      ]
     },
     "execution_count": 3,
     "metadata": {},
     "output_type": "execute_result"
    }
   ],
   "source": [
    "# This a simple arithmetic expression to mutiply then add integers\n",
    "(3*4)+5"
   ]
  },
  {
   "cell_type": "code",
   "execution_count": 6,
   "id": "4cb351b1-952d-49d9-b2ad-ec178ad80a74",
   "metadata": {
    "tags": []
   },
   "outputs": [
    {
     "name": "stdout",
     "output_type": "stream",
     "text": [
      "200 minutes to hours by diving by 60 are  3.3333333333333335  hours.\n"
     ]
    }
   ],
   "source": [
    "# This will convert 200 minutes to hours by diving by 60\n",
    "x = 200 \n",
    "y = x / 60\n",
    "print(\"200 minutes to hours by diving by 60 are \",y,\" hours.\")"
   ]
  },
  {
   "cell_type": "markdown",
   "id": "8bda6a94-1e3f-4919-9e04-b7b10f364f03",
   "metadata": {},
   "source": [
    "## Author \n",
    "César Iván Guillén Almanza "
   ]
  }
 ],
 "metadata": {
  "kernelspec": {
   "display_name": "Python 3 (ipykernel)",
   "language": "python",
   "name": "python3"
  },
  "language_info": {
   "codemirror_mode": {
    "name": "ipython",
    "version": 3
   },
   "file_extension": ".py",
   "mimetype": "text/x-python",
   "name": "python",
   "nbconvert_exporter": "python",
   "pygments_lexer": "ipython3",
   "version": "3.11.5"
  }
 },
 "nbformat": 4,
 "nbformat_minor": 5
}
